{
 "cells": [
  {
   "cell_type": "code",
   "execution_count": 86,
   "id": "d31eac0b",
   "metadata": {},
   "outputs": [],
   "source": [
    "import string\n",
    "import re\n",
    "from nltk.tokenize import word_tokenize"
   ]
  },
  {
   "cell_type": "code",
   "execution_count": 87,
   "id": "2fc15a06",
   "metadata": {},
   "outputs": [],
   "source": [
    "file = open('./data/brown.txt')\n",
    "corpus = file.read()\n",
    "\n"
   ]
  },
  {
   "cell_type": "code",
   "execution_count": 88,
   "id": "ced6a307",
   "metadata": {},
   "outputs": [],
   "source": [
    "def clean(corpus):\n",
    "    cleaned_corpus = corpus.lower()\n",
    "    cleaned_corpus = re.sub(' +', ' ', cleaned_corpus)\n",
    "    cleaned_corpus = re.sub('-+', ' ', cleaned_corpus)\n",
    "    cleaned_corpus = re.sub('[^a-zA-Z \\n]+', '', cleaned_corpus)\n",
    "\n",
    "    return cleaned_corpus"
   ]
  },
  {
   "cell_type": "code",
   "execution_count": 89,
   "id": "b95d0443",
   "metadata": {},
   "outputs": [],
   "source": [
    "# print(corpus[:100])\n",
    "corpus = clean(corpus)\n",
    "corpus = corpus.split(\"\\n\")\n",
    "data = corpus\n",
    "data = \" \".join(data)"
   ]
  },
  {
   "cell_type": "code",
   "execution_count": 90,
   "id": "a391b5cb",
   "metadata": {},
   "outputs": [
    {
     "data": {
      "text/plain": [
       "'the fulton county grand jury said friday an investigation  of atlantas recent primary election produced no evidence that  any irregularities took place the jury further said in term end  presentments that the city executive committee which had over all  charge of the election deserves the praise and thanks of the  city of atlanta for the manner in which the election was conducted  the september october term jury had been charged by fulton  superior court judge durwood pye to investigate reports of possible  irregularities in the hard fought primary which was won by  mayor nominate ivan allen jr only a relative handful  of such reports was received the jury said considering the  widespread interest in the election the number of voters and the size  of this city the jury said it did find that many of georgias  registration and election laws are outmoded or inadequate  and often ambiguous it recommended that fulton legislators  act to have these laws studied and revised to the end of mode'"
      ]
     },
     "execution_count": 90,
     "metadata": {},
     "output_type": "execute_result"
    }
   ],
   "source": [
    "data[:1000]"
   ]
  },
  {
   "cell_type": "code",
   "execution_count": 94,
   "id": "2fce241d",
   "metadata": {},
   "outputs": [
    {
     "name": "stdout",
     "output_type": "stream",
     "text": [
      "['the', 'fulton', 'county', 'grand', 'jury', 'said', 'friday', 'an', 'investigation', 'of', 'atlantas', 'recent', 'primary', 'election', 'produced', 'no', 'evidence', 'that', 'any', 'irregularities', 'took', 'place', 'the', 'jury', 'further', 'said', 'in', 'term', 'end', 'presentments', 'that', 'the', 'city', 'executive', 'committee', 'which', 'had', 'over', 'all', 'charge', 'of', 'the', 'election', 'deserves', 'the', 'praise', 'and', 'thanks', 'of', 'the']\n"
     ]
    }
   ],
   "source": [
    "def clean_text(doc):\n",
    "  tokens = doc.split()\n",
    "  table = str.maketrans('', '', string.punctuation)\n",
    "  tokens = [w.translate(table) for w in tokens]\n",
    "  tokens = [word for word in tokens if word.isalpha()]\n",
    "  tokens = [word.lower() for word in tokens]\n",
    "  return tokens\n",
    "\n",
    "tokens = clean_text(data)\n",
    "print(tokens[:50])"
   ]
  },
  {
   "cell_type": "code",
   "execution_count": 98,
   "id": "ba702495",
   "metadata": {},
   "outputs": [
    {
     "name": "stdout",
     "output_type": "stream",
     "text": [
      "42770 1013527\n"
     ]
    }
   ],
   "source": [
    "print(len(set(tokens)),len(tokens))"
   ]
  },
  {
   "cell_type": "code",
   "execution_count": null,
   "id": "da0c3d81",
   "metadata": {},
   "outputs": [],
   "source": []
  },
  {
   "cell_type": "code",
   "execution_count": null,
   "id": "ba7aed03",
   "metadata": {},
   "outputs": [],
   "source": []
  }
 ],
 "metadata": {
  "kernelspec": {
   "display_name": "Python 3",
   "language": "python",
   "name": "python3"
  },
  "language_info": {
   "codemirror_mode": {
    "name": "ipython",
    "version": 3
   },
   "file_extension": ".py",
   "mimetype": "text/x-python",
   "name": "python",
   "nbconvert_exporter": "python",
   "pygments_lexer": "ipython3",
   "version": "3.8.0"
  }
 },
 "nbformat": 4,
 "nbformat_minor": 5
}
