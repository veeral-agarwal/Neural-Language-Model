{
 "cells": [
  {
   "cell_type": "code",
   "execution_count": 86,
   "id": "80e66eb1",
   "metadata": {},
   "outputs": [],
   "source": [
    "import string\n",
    "import re\n",
    "from nltk.tokenize import word_tokenize"
   ]
  },
  {
   "cell_type": "code",
   "execution_count": 87,
   "id": "1f422f67",
   "metadata": {},
   "outputs": [],
   "source": [
    "file = open('./data/brown.txt')\n",
    "corpus = file.read()\n",
    "\n"
   ]
  },
  {
   "cell_type": "code",
   "execution_count": 88,
   "id": "c7e71ea4",
   "metadata": {},
   "outputs": [],
   "source": [
    "def clean(corpus):\n",
    "    cleaned_corpus = corpus.lower()\n",
    "    cleaned_corpus = re.sub(' +', ' ', cleaned_corpus)\n",
    "    cleaned_corpus = re.sub('-+', ' ', cleaned_corpus)\n",
    "    cleaned_corpus = re.sub('[^a-zA-Z \\n]+', '', cleaned_corpus)\n",
    "\n",
    "    return cleaned_corpus"
   ]
  },
  {
   "cell_type": "code",
   "execution_count": 89,
   "id": "581c93c4",
   "metadata": {},
   "outputs": [],
   "source": [
    "# print(corpus[:100])\n",
    "corpus = clean(corpus)\n",
    "corpus = corpus.split(\"\\n\")\n",
    "data = corpus\n",
    "data = \" \".join(data)"
   ]
  },
  {
   "cell_type": "code",
   "execution_count": 90,
   "id": "46c2b6c7",
   "metadata": {},
   "outputs": [
    {
     "data": {
      "text/plain": [
       "'the fulton county grand jury said friday an investigation  of atlantas recent primary election produced no evidence that  any irregularities took place the jury further said in term end  presentments that the city executive committee which had over all  charge of the election deserves the praise and thanks of the  city of atlanta for the manner in which the election was conducted  the september october term jury had been charged by fulton  superior court judge durwood pye to investigate reports of possible  irregularities in the hard fought primary which was won by  mayor nominate ivan allen jr only a relative handful  of such reports was received the jury said considering the  widespread interest in the election the number of voters and the size  of this city the jury said it did find that many of georgias  registration and election laws are outmoded or inadequate  and often ambiguous it recommended that fulton legislators  act to have these laws studied and revised to the end of mode'"
      ]
     },
     "execution_count": 90,
     "metadata": {},
     "output_type": "execute_result"
    }
   ],
   "source": [
    "data[:1000]"
   ]
  },
  {
   "cell_type": "code",
   "execution_count": 94,
   "id": "db7130ab",
   "metadata": {},
   "outputs": [
    {
     "name": "stdout",
     "output_type": "stream",
     "text": [
      "['the', 'fulton', 'county', 'grand', 'jury', 'said', 'friday', 'an', 'investigation', 'of', 'atlantas', 'recent', 'primary', 'election', 'produced', 'no', 'evidence', 'that', 'any', 'irregularities', 'took', 'place', 'the', 'jury', 'further', 'said', 'in', 'term', 'end', 'presentments', 'that', 'the', 'city', 'executive', 'committee', 'which', 'had', 'over', 'all', 'charge', 'of', 'the', 'election', 'deserves', 'the', 'praise', 'and', 'thanks', 'of', 'the']\n"
     ]
    }
   ],
   "source": [
    "def clean_text(doc):\n",
    "  tokens = doc.split()\n",
    "  table = str.maketrans('', '', string.punctuation)\n",
    "  tokens = [w.translate(table) for w in tokens]\n",
    "  tokens = [word for word in tokens if word.isalpha()]\n",
    "  tokens = [word.lower() for word in tokens]\n",
    "  return tokens\n",
    "\n",
    "tokens = clean_text(data)\n",
    "print(tokens[:50])"
   ]
  },
  {
   "cell_type": "code",
   "execution_count": 98,
   "id": "ff690e61",
   "metadata": {},
   "outputs": [
    {
     "name": "stdout",
     "output_type": "stream",
     "text": [
      "42770 1013527\n"
     ]
    }
   ],
   "source": [
    "print(len(set(tokens)),len(tokens))"
   ]
  },
  {
   "cell_type": "code",
   "execution_count": 99,
   "id": "90bcb4d3",
   "metadata": {},
   "outputs": [
    {
     "name": "stdout",
     "output_type": "stream",
     "text": [
      "199951\n"
     ]
    }
   ],
   "source": [
    "length = 50 + 1\n",
    "lines = []\n",
    "\n",
    "for i in range(length, len(tokens)):\n",
    "  seq = tokens[i-length:i]\n",
    "  line = ' '.join(seq)\n",
    "  lines.append(line)\n",
    "  if i > 200000:\n",
    "    break\n",
    "\n",
    "print(len(lines))"
   ]
  },
  {
   "cell_type": "code",
   "execution_count": 106,
   "id": "6dcac1d7",
   "metadata": {},
   "outputs": [
    {
     "data": {
      "text/plain": [
       "'the fulton county grand jury said friday an investigation of atlantas recent primary election produced no evidence that any irregularities took place the jury further said in term end presentments that the city executive committee which had over all charge of the election deserves the praise and thanks of the city'"
      ]
     },
     "execution_count": 106,
     "metadata": {},
     "output_type": "execute_result"
    }
   ],
   "source": [
    "lines[0]"
   ]
  },
  {
   "cell_type": "code",
   "execution_count": 107,
   "id": "414d8e02",
   "metadata": {},
   "outputs": [
    {
     "data": {
      "text/plain": [
       "'city'"
      ]
     },
     "execution_count": 107,
     "metadata": {},
     "output_type": "execute_result"
    }
   ],
   "source": [
    "tokens[50]"
   ]
  },
  {
   "cell_type": "code",
   "execution_count": 109,
   "id": "54005005",
   "metadata": {},
   "outputs": [],
   "source": [
    "import numpy as np \n",
    "from tensorflow.keras.preprocessing.text import Tokenizer\n",
    "from tensorflow.keras.utils import to_categorical\n",
    "from tensorflow.keras.models import Sequential\n",
    "from tensorflow.keras.layers import Dense, LSTM, Embedding\n",
    "from tensorflow.keras.preprocessing.sequence import pad_sequences"
   ]
  },
  {
   "cell_type": "code",
   "execution_count": 110,
   "id": "239a77f2",
   "metadata": {},
   "outputs": [],
   "source": [
    "tokenizer = Tokenizer()\n",
    "tokenizer.fit_on_texts(lines)\n",
    "sequences = tokenizer.texts_to_sequences(lines)"
   ]
  },
  {
   "cell_type": "code",
   "execution_count": 113,
   "id": "e8f60676",
   "metadata": {},
   "outputs": [
    {
     "data": {
      "text/plain": [
       "array([ 5784,   365,   819,   377,  1362,    49,   655,     8,    80,\n",
       "        7349,   274,   209,     1,   472,   553,    44,     6,   792,\n",
       "         249, 19380,     8,     1,   102,  1019,   183,    29,    35,\n",
       "          82,    34,   850,     2,     1,   377,  4033,     1,  3101,\n",
       "           3,  2064,     2,     1,   102,     2,  1363,     9,     1,\n",
       "        1070,     6,    29,     1,   377])"
      ]
     },
     "execution_count": 113,
     "metadata": {},
     "output_type": "execute_result"
    }
   ],
   "source": [
    "sequences = np.array(sequences)\n",
    "X, y = sequences[:, :-1], sequences[:,-1]\n",
    "X[10]"
   ]
  },
  {
   "cell_type": "code",
   "execution_count": 116,
   "id": "ae82a349",
   "metadata": {},
   "outputs": [],
   "source": [
    "vocab_size = len(tokenizer.word_index) + 1\n"
   ]
  },
  {
   "cell_type": "code",
   "execution_count": null,
   "id": "b6d57acf",
   "metadata": {
    "scrolled": true
   },
   "outputs": [],
   "source": [
    "\n"
   ]
  }
 ],
 "metadata": {
  "kernelspec": {
   "display_name": "Python 3",
   "language": "python",
   "name": "python3"
  },
  "language_info": {
   "codemirror_mode": {
    "name": "ipython",
    "version": 3
   },
   "file_extension": ".py",
   "mimetype": "text/x-python",
   "name": "python",
   "nbconvert_exporter": "python",
   "pygments_lexer": "ipython3",
   "version": "3.8.0"
  }
 },
 "nbformat": 4,
 "nbformat_minor": 5
}
